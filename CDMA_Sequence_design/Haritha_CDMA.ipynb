{
  "nbformat": 4,
  "nbformat_minor": 0,
  "metadata": {
    "colab": {
      "name": "Haritha_CDMA.ipynb",
      "provenance": [],
      "collapsed_sections": []
    },
    "kernelspec": {
      "name": "python3",
      "display_name": "Python 3"
    },
    "language_info": {
      "name": "python"
    }
  },
  "cells": [
    {
      "cell_type": "markdown",
      "source": [
        "Applications of Majorization Theory\n",
        "> CDMA Sequence Design illustration\n",
        "\n",
        "\n",
        "---\n",
        "\n"
      ],
      "metadata": {
        "id": "ZX-Hg_ga_NwW"
      }
    },
    {
      "cell_type": "markdown",
      "source": [
        "Done by Haritha.R ( AI20BTECH11010 ) "
      ],
      "metadata": {
        "id": "j_22Shfd_FaB"
      }
    },
    {
      "cell_type": "code",
      "source": [
        "import numpy as np\n",
        "import math \n"
      ],
      "metadata": {
        "id": "YVcVGLrJVeek"
      },
      "execution_count": 283,
      "outputs": []
    },
    {
      "cell_type": "code",
      "execution_count": 284,
      "metadata": {
        "colab": {
          "base_uri": "https://localhost:8080/"
        },
        "id": "J1Q_Es8bbrhD",
        "outputId": "c2d13447-16d7-4df3-b0e1-0cf44481dcea"
      },
      "outputs": [
        {
          "output_type": "stream",
          "name": "stdout",
          "text": [
            "K =  3 ,N =  4 sigma= 0.35768229296515897 \n",
            "\n",
            "p 1  =  6\n",
            "p 2  =  7\n",
            "p 3  =  9\n",
            "\n",
            "Column wise norms of S:\n",
            " ||s 1 || = 1\n",
            " ||s 2 || = 1\n",
            " ||s 3 || = 1\n",
            "\n",
            " SP(S^T) =\n",
            "  [[11.75  5.75  2.25  2.25]\n",
            " [ 5.75  5.75  2.25  2.25]\n",
            " [ 2.25  2.25  2.25  2.25]\n",
            " [ 2.25  2.25  2.25  2.25]]\n",
            "\n",
            "Eigen Values of SP(S^T) =\n",
            "lamda 1 = 16.7987\n",
            "lamda 2 = 3.6673\n",
            "lamda 3 = 1.5339\n",
            "lamda 4 = 0.0\n",
            "\n",
            " cumulative sum of p in ascending order= [ 6 13 22] \n",
            "cumulative sum of lambda in ascending order= [ 1.53392909  5.20125696 22.        ]\n",
            "clearly lambda majorises p \n",
            "mimimum TWSC= 297.99999999999994 \n",
            " minimum MMSE= 0.11825155393968478 \n",
            " maximum sum capacity= 5.419623434839098\n"
          ]
        }
      ],
      "source": [
        "\n",
        "# Problem data.\n",
        "K = 3\n",
        "N = 4    # N >=K\n",
        "p = np.random.randint(10,size=K)\n",
        "sigma= np.random.random(1)[0]  \n",
        "\n",
        "\n",
        "print(\"K = \",K,\",N = \",N,\"sigma=\",sigma,\"\\n\")\n",
        "P= np.zeros((K,K))\n",
        "for i in range(K):\n",
        "      P[i,i]=p[i]\n",
        "      print(\"p\",i+1,\" = \",round(p[i],4))\n",
        "\n",
        "\n",
        "S=np.array([[1, (1/math.sqrt(2)) , 1/2],\n",
        "   [0, (1/math.sqrt(2)) , 1/2],\n",
        "   [0, 0 , 1/2],\n",
        "   [0, 0 , 1/2]])\n",
        "\n",
        "print(\"\\nColumn wise norms of S:\")\n",
        "norm_S= np.linalg.norm(S, axis = 0)\n",
        "for i in range(K):\n",
        "    print(\" ||s\",i+1,\"|| =\",round(norm_S[i] ))\n",
        "\n",
        "A=np.dot(np.dot(S,P) ,S.T)\n",
        "print(\"\\n SP(S^T) =\\n \",A)\n",
        "\n",
        "Eigen_values_lambdas,Eigen_vectors=np.linalg.eig(A)\n",
        "\n",
        "print(\"\\nEigen Values of SP(S^T) =\")\n",
        "for i in range(N):\n",
        "     print(\"lamda\",i+1,\"=\",round(Eigen_values_lambdas[i],4))\n",
        "\n",
        "\n",
        "lamda=Eigen_values_lambdas[:K]\n",
        "\n",
        "p.sort()\n",
        "p_cum_sum =np.cumsum(p)\n",
        "\n",
        "lamda.sort()\n",
        "lambda_cum_sum=np.cumsum(lamda)\n",
        " \n",
        "print(\"\\n cumulative sum of p in ascending order=\",p_cum_sum,\"\\ncumulative sum of lambda in ascending order=\",lambda_cum_sum)\n",
        "if((lambda_cum_sum <= p_cum_sum).all):\n",
        "  print(\"clearly lambda majorises p \")\n",
        "\n",
        "twsc = sum(np.square(Eigen_values_lambdas))\n",
        "\n",
        "mse=K\n",
        "c_sum=0\n",
        "for i in range(N):\n",
        "  l=Eigen_values_lambdas[i]\n",
        "  c_sum = c_sum + (( math.log(1+ l/(sigma*sigma)) )/2)\n",
        "  mse= mse - (l /(l + (sigma*sigma)) )\n",
        "\n",
        "print(\"mimimum TWSC=\",twsc,\"\\n minimum MMSE=\",mse,\"\\n maximum sum capacity=\",c_sum)  "
      ]
    }
  ]
}